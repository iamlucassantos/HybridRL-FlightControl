{
 "cells": [
  {
   "cell_type": "markdown",
   "metadata": {
    "collapsed": true,
    "pycharm": {
     "is_executing": true
    }
   },
   "source": [
    "# Best reward experiment\n",
    "\n",
    "Analysis of the best reward function for the LTI citation.\n",
    "Comparison uses TD3, SAC, and DSAC with three different reward functions:\n",
    "1. $r=e$\n",
    "1. $r= e + \\Delta u$\n",
    "1. $r= e + \\Delta u + u$"
   ]
  },
  {
   "cell_type": "code",
   "execution_count": 13,
   "metadata": {},
   "outputs": [],
   "source": [
    "import pandas as pd\n",
    "from helpers.paths import Path\n",
    "import seaborn as sns\n",
    "\n",
    "sns.set()"
   ]
  },
  {
   "cell_type": "markdown",
   "metadata": {},
   "source": [
    "## 1. Tracking sinusoidal pitch rate"
   ]
  },
  {
   "cell_type": "markdown",
   "metadata": {},
   "source": [
    "### Analusis of tracking error\n",
    "\n",
    "Load and clean data:"
   ]
  },
  {
   "cell_type": "code",
   "execution_count": 17,
   "metadata": {},
   "outputs": [
    {
     "name": "stdout",
     "output_type": "stream",
     "text": [
      "Every run contains tracking_error field.\n"
     ]
    },
    {
     "data": {
      "text/html": [
       "<div>\n",
       "<style scoped>\n",
       "    .dataframe tbody tr th:only-of-type {\n",
       "        vertical-align: middle;\n",
       "    }\n",
       "\n",
       "    .dataframe tbody tr th {\n",
       "        vertical-align: top;\n",
       "    }\n",
       "\n",
       "    .dataframe thead th {\n",
       "        text-align: right;\n",
       "    }\n",
       "</style>\n",
       "<table border=\"1\" class=\"dataframe\">\n",
       "  <thead>\n",
       "    <tr style=\"text-align: right;\">\n",
       "      <th></th>\n",
       "      <th>run</th>\n",
       "      <th>algorithm</th>\n",
       "      <th>reward_type</th>\n",
       "      <th>tracking_error</th>\n",
       "      <th>episode_step</th>\n",
       "    </tr>\n",
       "  </thead>\n",
       "  <tbody>\n",
       "    <tr>\n",
       "      <th>0</th>\n",
       "      <td>amber-disco-33</td>\n",
       "      <td>DSAC</td>\n",
       "      <td>$e + \\Delta u$</td>\n",
       "      <td>0.012693</td>\n",
       "      <td>100</td>\n",
       "    </tr>\n",
       "    <tr>\n",
       "      <th>1</th>\n",
       "      <td>amber-forest-51</td>\n",
       "      <td>TD3</td>\n",
       "      <td>$e + \\Delta u$</td>\n",
       "      <td>0.001662</td>\n",
       "      <td>100</td>\n",
       "    </tr>\n",
       "    <tr>\n",
       "      <th>2</th>\n",
       "      <td>amber-vortex-196</td>\n",
       "      <td>DSAC</td>\n",
       "      <td>$e$</td>\n",
       "      <td>0.014421</td>\n",
       "      <td>100</td>\n",
       "    </tr>\n",
       "    <tr>\n",
       "      <th>3</th>\n",
       "      <td>apricot-bee-205</td>\n",
       "      <td>DSAC</td>\n",
       "      <td>$e + \\Delta u$</td>\n",
       "      <td>0.005363</td>\n",
       "      <td>100</td>\n",
       "    </tr>\n",
       "    <tr>\n",
       "      <th>4</th>\n",
       "      <td>astral-bee-94</td>\n",
       "      <td>TD3</td>\n",
       "      <td>$e + \\Delta u + u$</td>\n",
       "      <td>0.017878</td>\n",
       "      <td>100</td>\n",
       "    </tr>\n",
       "  </tbody>\n",
       "</table>\n",
       "</div>"
      ],
      "text/plain": [
       "                run algorithm         reward_type  tracking_error  \\\n",
       "0    amber-disco-33      DSAC      $e + \\Delta u$        0.012693   \n",
       "1   amber-forest-51       TD3      $e + \\Delta u$        0.001662   \n",
       "2  amber-vortex-196      DSAC                 $e$        0.014421   \n",
       "3   apricot-bee-205      DSAC      $e + \\Delta u$        0.005363   \n",
       "4     astral-bee-94       TD3  $e + \\Delta u + u$        0.017878   \n",
       "\n",
       "   episode_step  \n",
       "0           100  \n",
       "1           100  \n",
       "2           100  \n",
       "3           100  \n",
       "4           100  "
      ]
     },
     "metadata": {},
     "output_type": "display_data"
    }
   ],
   "source": [
    "# Load data\n",
    "df = pd.read_csv(Path.data/\"best_reward.csv\")\n",
    "\n",
    "# Assert tracking error is available for all data\n",
    "print(\"Missing tracking data\" if df[df.tracking_error.isna()].any().any() else \"Every run contains tracking_error field.\")\n",
    "\n",
    "# Group data from a single run\n",
    "df = df.groupby([\"run\", \"algorithm\", \"reward_type\"]).aggregate({\"tracking_error\": \"mean\", \n",
    "                                                                \"episode_step\": \"count\"\n",
    "                                                               }).reset_index()\n",
    "\n",
    "# Rename reward_types\n",
    "df = df.replace({\"reward_type\":{\n",
    "    'sq_error': r'$e$',\n",
    "    'sq_error_da': r'$e + \\Delta u$',\n",
    "    'sq_error_da_a': r'$e + \\Delta u + u$',\n",
    "}})\n",
    "\n",
    "display(df.head())"
   ]
  },
  {
   "cell_type": "markdown",
   "metadata": {},
   "source": [
    "Check if all algorithms have the same amount of episodes"
   ]
  },
  {
   "cell_type": "code",
   "execution_count": 16,
   "metadata": {
    "scrolled": false
   },
   "outputs": [
    {
     "data": {
      "text/plain": [
       "algorithm\n",
       "DSAC    60\n",
       "SAC     60\n",
       "TD3     59\n",
       "Name: algorithm, dtype: int64"
      ]
     },
     "metadata": {},
     "output_type": "display_data"
    },
    {
     "data": {
      "text/html": [
       "<div>\n",
       "<style scoped>\n",
       "    .dataframe tbody tr th:only-of-type {\n",
       "        vertical-align: middle;\n",
       "    }\n",
       "\n",
       "    .dataframe tbody tr th {\n",
       "        vertical-align: top;\n",
       "    }\n",
       "\n",
       "    .dataframe thead th {\n",
       "        text-align: right;\n",
       "    }\n",
       "</style>\n",
       "<table border=\"1\" class=\"dataframe\">\n",
       "  <thead>\n",
       "    <tr style=\"text-align: right;\">\n",
       "      <th></th>\n",
       "      <th>tracking_error</th>\n",
       "      <th>episode_step</th>\n",
       "    </tr>\n",
       "  </thead>\n",
       "  <tbody>\n",
       "    <tr>\n",
       "      <th>count</th>\n",
       "      <td>179.000000</td>\n",
       "      <td>179.0</td>\n",
       "    </tr>\n",
       "    <tr>\n",
       "      <th>mean</th>\n",
       "      <td>0.007985</td>\n",
       "      <td>100.0</td>\n",
       "    </tr>\n",
       "    <tr>\n",
       "      <th>std</th>\n",
       "      <td>0.009691</td>\n",
       "      <td>0.0</td>\n",
       "    </tr>\n",
       "    <tr>\n",
       "      <th>min</th>\n",
       "      <td>0.000135</td>\n",
       "      <td>100.0</td>\n",
       "    </tr>\n",
       "    <tr>\n",
       "      <th>25%</th>\n",
       "      <td>0.002637</td>\n",
       "      <td>100.0</td>\n",
       "    </tr>\n",
       "    <tr>\n",
       "      <th>50%</th>\n",
       "      <td>0.005123</td>\n",
       "      <td>100.0</td>\n",
       "    </tr>\n",
       "    <tr>\n",
       "      <th>75%</th>\n",
       "      <td>0.010063</td>\n",
       "      <td>100.0</td>\n",
       "    </tr>\n",
       "    <tr>\n",
       "      <th>max</th>\n",
       "      <td>0.056297</td>\n",
       "      <td>100.0</td>\n",
       "    </tr>\n",
       "  </tbody>\n",
       "</table>\n",
       "</div>"
      ],
      "text/plain": [
       "       tracking_error  episode_step\n",
       "count      179.000000         179.0\n",
       "mean         0.007985         100.0\n",
       "std          0.009691           0.0\n",
       "min          0.000135         100.0\n",
       "25%          0.002637         100.0\n",
       "50%          0.005123         100.0\n",
       "75%          0.010063         100.0\n",
       "max          0.056297         100.0"
      ]
     },
     "metadata": {},
     "output_type": "display_data"
    }
   ],
   "source": [
    "display(df.groupby(\"algorithm\")[\"algorithm\"].count())\n",
    "display(df.describe())"
   ]
  },
  {
   "cell_type": "markdown",
   "metadata": {},
   "source": [
    "Some episodes do not last unitil the end. Remove those episodes:"
   ]
  },
  {
   "cell_type": "code",
   "execution_count": 11,
   "metadata": {},
   "outputs": [],
   "source": [
    "# Keep only episodes that are long enough\n",
    "df = df[df.episode_step==100]"
   ]
  },
  {
   "cell_type": "code",
   "execution_count": 12,
   "metadata": {
    "scrolled": false
   },
   "outputs": [
    {
     "data": {
      "text/plain": [
       "<AxesSubplot: xlabel='algorithm', ylabel='tracking_error'>"
      ]
     },
     "execution_count": 12,
     "metadata": {},
     "output_type": "execute_result"
    },
    {
     "data": {
      "image/png": "[encoded data removed]",
      "text/plain": [
       "<Figure size 640x480 with 1 Axes>"
      ]
     },
     "metadata": {},
     "output_type": "display_data"
    }
   ],
   "source": [
    "hue_order = [\"$e$\", \"$e + \\Delta u$\", \"$e + \\Delta u + u$\"]\n",
    "sns.boxplot(data=df, x=\"algorithm\", y=\"tracking_error\", hue=\"reward_type\", hue_order=hue_order)"
   ]
  },
  {
   "cell_type": "markdown",
   "metadata": {},
   "source": [
    "### Episode length analysis"
   ]
  },
  {
   "cell_type": "code",
   "execution_count": 21,
   "metadata": {},
   "outputs": [],
   "source": [
    "# Load data\n",
    "df_rollout = pd.read_csv(Path.data/\"best_reward_rollout.csv\")\n",
    "\n",
    "# Get runs\n",
    "runs = df_rollout['run'].unique()"
   ]
  },
  {
   "cell_type": "code",
   "execution_count": 27,
   "metadata": {},
   "outputs": [
    {
     "data": {
      "text/html": [
       "<div>\n",
       "<style scoped>\n",
       "    .dataframe tbody tr th:only-of-type {\n",
       "        vertical-align: middle;\n",
       "    }\n",
       "\n",
       "    .dataframe tbody tr th {\n",
       "        vertical-align: top;\n",
       "    }\n",
       "\n",
       "    .dataframe thead th {\n",
       "        text-align: right;\n",
       "    }\n",
       "</style>\n",
       "<table border=\"1\" class=\"dataframe\">\n",
       "  <thead>\n",
       "    <tr style=\"text-align: right;\">\n",
       "      <th></th>\n",
       "      <th>Unnamed: 0</th>\n",
       "      <th>_step</th>\n",
       "      <th>rollout/ep_len_mean</th>\n",
       "      <th>rollout/ep_rew_mean</th>\n",
       "      <th>algorithm</th>\n",
       "      <th>reward_type</th>\n",
       "      <th>run</th>\n",
       "    </tr>\n",
       "  </thead>\n",
       "  <tbody>\n",
       "    <tr>\n",
       "      <th>37807</th>\n",
       "      <td>0</td>\n",
       "      <td>0</td>\n",
       "      <td>8.000000</td>\n",
       "      <td>-42.260773</td>\n",
       "      <td>SAC</td>\n",
       "      <td>sq_error</td>\n",
       "      <td>laced-pond-14</td>\n",
       "    </tr>\n",
       "    <tr>\n",
       "      <th>37808</th>\n",
       "      <td>1</td>\n",
       "      <td>1</td>\n",
       "      <td>54.500000</td>\n",
       "      <td>-23.655102</td>\n",
       "      <td>SAC</td>\n",
       "      <td>sq_error</td>\n",
       "      <td>laced-pond-14</td>\n",
       "    </tr>\n",
       "    <tr>\n",
       "      <th>37809</th>\n",
       "      <td>2</td>\n",
       "      <td>2</td>\n",
       "      <td>57.000000</td>\n",
       "      <td>-22.361485</td>\n",
       "      <td>SAC</td>\n",
       "      <td>sq_error</td>\n",
       "      <td>laced-pond-14</td>\n",
       "    </tr>\n",
       "    <tr>\n",
       "      <th>37810</th>\n",
       "      <td>3</td>\n",
       "      <td>3</td>\n",
       "      <td>68.000000</td>\n",
       "      <td>-17.372065</td>\n",
       "      <td>SAC</td>\n",
       "      <td>sq_error</td>\n",
       "      <td>laced-pond-14</td>\n",
       "    </tr>\n",
       "    <tr>\n",
       "      <th>37811</th>\n",
       "      <td>4</td>\n",
       "      <td>4</td>\n",
       "      <td>74.599998</td>\n",
       "      <td>-14.271927</td>\n",
       "      <td>SAC</td>\n",
       "      <td>sq_error</td>\n",
       "      <td>laced-pond-14</td>\n",
       "    </tr>\n",
       "    <tr>\n",
       "      <th>...</th>\n",
       "      <td>...</td>\n",
       "      <td>...</td>\n",
       "      <td>...</td>\n",
       "      <td>...</td>\n",
       "      <td>...</td>\n",
       "      <td>...</td>\n",
       "      <td>...</td>\n",
       "    </tr>\n",
       "    <tr>\n",
       "      <th>37902</th>\n",
       "      <td>95</td>\n",
       "      <td>95</td>\n",
       "      <td>99.625000</td>\n",
       "      <td>-2.434353</td>\n",
       "      <td>SAC</td>\n",
       "      <td>sq_error</td>\n",
       "      <td>laced-pond-14</td>\n",
       "    </tr>\n",
       "    <tr>\n",
       "      <th>37903</th>\n",
       "      <td>96</td>\n",
       "      <td>96</td>\n",
       "      <td>99.639175</td>\n",
       "      <td>-2.424491</td>\n",
       "      <td>SAC</td>\n",
       "      <td>sq_error</td>\n",
       "      <td>laced-pond-14</td>\n",
       "    </tr>\n",
       "    <tr>\n",
       "      <th>37904</th>\n",
       "      <td>97</td>\n",
       "      <td>97</td>\n",
       "      <td>99.653061</td>\n",
       "      <td>-2.413381</td>\n",
       "      <td>SAC</td>\n",
       "      <td>sq_error</td>\n",
       "      <td>laced-pond-14</td>\n",
       "    </tr>\n",
       "    <tr>\n",
       "      <th>37905</th>\n",
       "      <td>98</td>\n",
       "      <td>214</td>\n",
       "      <td>99.666664</td>\n",
       "      <td>-2.403401</td>\n",
       "      <td>SAC</td>\n",
       "      <td>sq_error</td>\n",
       "      <td>laced-pond-14</td>\n",
       "    </tr>\n",
       "    <tr>\n",
       "      <th>37906</th>\n",
       "      <td>99</td>\n",
       "      <td>499</td>\n",
       "      <td>99.680000</td>\n",
       "      <td>-2.391075</td>\n",
       "      <td>SAC</td>\n",
       "      <td>sq_error</td>\n",
       "      <td>laced-pond-14</td>\n",
       "    </tr>\n",
       "  </tbody>\n",
       "</table>\n",
       "<p>100 rows × 7 columns</p>\n",
       "</div>"
      ],
      "text/plain": [
       "       Unnamed: 0  _step  rollout/ep_len_mean  rollout/ep_rew_mean algorithm  \\\n",
       "37807           0      0             8.000000           -42.260773       SAC   \n",
       "37808           1      1            54.500000           -23.655102       SAC   \n",
       "37809           2      2            57.000000           -22.361485       SAC   \n",
       "37810           3      3            68.000000           -17.372065       SAC   \n",
       "37811           4      4            74.599998           -14.271927       SAC   \n",
       "...           ...    ...                  ...                  ...       ...   \n",
       "37902          95     95            99.625000            -2.434353       SAC   \n",
       "37903          96     96            99.639175            -2.424491       SAC   \n",
       "37904          97     97            99.653061            -2.413381       SAC   \n",
       "37905          98    214            99.666664            -2.403401       SAC   \n",
       "37906          99    499            99.680000            -2.391075       SAC   \n",
       "\n",
       "      reward_type            run  \n",
       "37807    sq_error  laced-pond-14  \n",
       "37808    sq_error  laced-pond-14  \n",
       "37809    sq_error  laced-pond-14  \n",
       "37810    sq_error  laced-pond-14  \n",
       "37811    sq_error  laced-pond-14  \n",
       "...           ...            ...  \n",
       "37902    sq_error  laced-pond-14  \n",
       "37903    sq_error  laced-pond-14  \n",
       "37904    sq_error  laced-pond-14  \n",
       "37905    sq_error  laced-pond-14  \n",
       "37906    sq_error  laced-pond-14  \n",
       "\n",
       "[100 rows x 7 columns]"
      ]
     },
     "execution_count": 27,
     "metadata": {},
     "output_type": "execute_result"
    }
   ],
   "source": [
    "algorithm = \"SAC\"\n",
    "for run in runs:\n",
    "    df_temp = df_rollout[(df_rollout.run == run) & (df_rollout.algorithm == algorithm)]\n",
    "df_temp"
   ]
  }
 ],
 "metadata": {
  "kernelspec": {
   "display_name": "Python 3 (ipykernel)",
   "language": "python",
   "name": "python3"
  },
  "language_info": {
   "codemirror_mode": {
    "name": "ipython",
    "version": 3
   },
   "file_extension": ".py",
   "mimetype": "text/x-python",
   "name": "python",
   "nbconvert_exporter": "python",
   "pygments_lexer": "ipython3",
   "version": "3.9.15"
  }
 },
 "nbformat": 4,
 "nbformat_minor": 1
}
